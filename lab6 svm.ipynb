{
  "cells": [
    {
      "cell_type": "markdown",
      "id": "709c25f2",
      "metadata": {},
      "source": [
        "20BRS1075 Aman Gupta\n"
      ]
    },
    {
      "cell_type": "code",
      "execution_count": null,
      "id": "7057f1c3",
      "metadata": {
        "id": "7057f1c3"
      },
      "outputs": [],
      "source": [
        "import matplotlib.pyplot as plt\n",
        "import pandas as pd\n",
        "from sklearn import preprocessing,svm\n",
        "from sklearn.model_selection import train_test_split"
      ]
    },
    {
      "cell_type": "code",
      "execution_count": null,
      "id": "0b1e669e",
      "metadata": {
        "id": "0b1e669e"
      },
      "outputs": [],
      "source": [
        "data=pd.read_csv(\"iris.csv\")"
      ]
    },
    {
      "cell_type": "code",
      "execution_count": null,
      "id": "2bae1570",
      "metadata": {
        "id": "2bae1570",
        "outputId": "eae78dc1-9da5-4e3f-9f5a-e2d6a3794b59"
      },
      "outputs": [
        {
          "data": {
            "text/plain": [
              "<bound method NDFrame.head of      sepal.length  sepal.width  petal.length  petal.width    variety\n",
              "0             5.1          3.5           1.4          0.2     Setosa\n",
              "1             4.9          3.0           1.4          0.2     Setosa\n",
              "2             4.7          3.2           1.3          0.2     Setosa\n",
              "3             4.6          3.1           1.5          0.2     Setosa\n",
              "4             5.0          3.6           1.4          0.2     Setosa\n",
              "..            ...          ...           ...          ...        ...\n",
              "145           6.7          3.0           5.2          2.3  Virginica\n",
              "146           6.3          2.5           5.0          1.9  Virginica\n",
              "147           6.5          3.0           5.2          2.0  Virginica\n",
              "148           6.2          3.4           5.4          2.3  Virginica\n",
              "149           5.9          3.0           5.1          1.8  Virginica\n",
              "\n",
              "[150 rows x 5 columns]>"
            ]
          },
          "execution_count": 23,
          "metadata": {},
          "output_type": "execute_result"
        }
      ],
      "source": [
        "data.head"
      ]
    },
    {
      "cell_type": "code",
      "execution_count": null,
      "id": "ae98c947",
      "metadata": {
        "id": "ae98c947",
        "outputId": "adbb5434-0333-41a9-ca6b-d01a1c13ae59"
      },
      "outputs": [
        {
          "data": {
            "text/html": [
              "<div>\n",
              "<style scoped>\n",
              "    .dataframe tbody tr th:only-of-type {\n",
              "        vertical-align: middle;\n",
              "    }\n",
              "\n",
              "    .dataframe tbody tr th {\n",
              "        vertical-align: top;\n",
              "    }\n",
              "\n",
              "    .dataframe thead th {\n",
              "        text-align: right;\n",
              "    }\n",
              "</style>\n",
              "<table border=\"1\" class=\"dataframe\">\n",
              "  <thead>\n",
              "    <tr style=\"text-align: right;\">\n",
              "      <th></th>\n",
              "      <th>sepal.length</th>\n",
              "      <th>sepal.width</th>\n",
              "      <th>petal.length</th>\n",
              "      <th>petal.width</th>\n",
              "    </tr>\n",
              "  </thead>\n",
              "  <tbody>\n",
              "    <tr>\n",
              "      <th>0</th>\n",
              "      <td>5.1</td>\n",
              "      <td>3.5</td>\n",
              "      <td>1.4</td>\n",
              "      <td>0.2</td>\n",
              "    </tr>\n",
              "    <tr>\n",
              "      <th>1</th>\n",
              "      <td>4.9</td>\n",
              "      <td>3.0</td>\n",
              "      <td>1.4</td>\n",
              "      <td>0.2</td>\n",
              "    </tr>\n",
              "    <tr>\n",
              "      <th>2</th>\n",
              "      <td>4.7</td>\n",
              "      <td>3.2</td>\n",
              "      <td>1.3</td>\n",
              "      <td>0.2</td>\n",
              "    </tr>\n",
              "    <tr>\n",
              "      <th>3</th>\n",
              "      <td>4.6</td>\n",
              "      <td>3.1</td>\n",
              "      <td>1.5</td>\n",
              "      <td>0.2</td>\n",
              "    </tr>\n",
              "    <tr>\n",
              "      <th>4</th>\n",
              "      <td>5.0</td>\n",
              "      <td>3.6</td>\n",
              "      <td>1.4</td>\n",
              "      <td>0.2</td>\n",
              "    </tr>\n",
              "    <tr>\n",
              "      <th>...</th>\n",
              "      <td>...</td>\n",
              "      <td>...</td>\n",
              "      <td>...</td>\n",
              "      <td>...</td>\n",
              "    </tr>\n",
              "    <tr>\n",
              "      <th>145</th>\n",
              "      <td>6.7</td>\n",
              "      <td>3.0</td>\n",
              "      <td>5.2</td>\n",
              "      <td>2.3</td>\n",
              "    </tr>\n",
              "    <tr>\n",
              "      <th>146</th>\n",
              "      <td>6.3</td>\n",
              "      <td>2.5</td>\n",
              "      <td>5.0</td>\n",
              "      <td>1.9</td>\n",
              "    </tr>\n",
              "    <tr>\n",
              "      <th>147</th>\n",
              "      <td>6.5</td>\n",
              "      <td>3.0</td>\n",
              "      <td>5.2</td>\n",
              "      <td>2.0</td>\n",
              "    </tr>\n",
              "    <tr>\n",
              "      <th>148</th>\n",
              "      <td>6.2</td>\n",
              "      <td>3.4</td>\n",
              "      <td>5.4</td>\n",
              "      <td>2.3</td>\n",
              "    </tr>\n",
              "    <tr>\n",
              "      <th>149</th>\n",
              "      <td>5.9</td>\n",
              "      <td>3.0</td>\n",
              "      <td>5.1</td>\n",
              "      <td>1.8</td>\n",
              "    </tr>\n",
              "  </tbody>\n",
              "</table>\n",
              "<p>150 rows × 4 columns</p>\n",
              "</div>"
            ],
            "text/plain": [
              "     sepal.length  sepal.width  petal.length  petal.width\n",
              "0             5.1          3.5           1.4          0.2\n",
              "1             4.9          3.0           1.4          0.2\n",
              "2             4.7          3.2           1.3          0.2\n",
              "3             4.6          3.1           1.5          0.2\n",
              "4             5.0          3.6           1.4          0.2\n",
              "..            ...          ...           ...          ...\n",
              "145           6.7          3.0           5.2          2.3\n",
              "146           6.3          2.5           5.0          1.9\n",
              "147           6.5          3.0           5.2          2.0\n",
              "148           6.2          3.4           5.4          2.3\n",
              "149           5.9          3.0           5.1          1.8\n",
              "\n",
              "[150 rows x 4 columns]"
            ]
          },
          "execution_count": 18,
          "metadata": {},
          "output_type": "execute_result"
        }
      ],
      "source": [
        "X=data.iloc[:,0:4]\n",
        "X"
      ]
    },
    {
      "cell_type": "code",
      "execution_count": null,
      "id": "fecc5da7",
      "metadata": {
        "id": "fecc5da7",
        "outputId": "7c465a0c-d1ae-4841-8236-73d9755f560f"
      },
      "outputs": [
        {
          "data": {
            "text/plain": [
              "array([0, 0, 0, 0, 0, 0, 0, 0, 0, 0, 0, 0, 0, 0, 0, 0, 0, 0, 0, 0, 0, 0,\n",
              "       0, 0, 0, 0, 0, 0, 0, 0, 0, 0, 0, 0, 0, 0, 0, 0, 0, 0, 0, 0, 0, 0,\n",
              "       0, 0, 0, 0, 0, 0, 1, 1, 1, 1, 1, 1, 1, 1, 1, 1, 1, 1, 1, 1, 1, 1,\n",
              "       1, 1, 1, 1, 1, 1, 1, 1, 1, 1, 1, 1, 1, 1, 1, 1, 1, 1, 1, 1, 1, 1,\n",
              "       1, 1, 1, 1, 1, 1, 1, 1, 1, 1, 1, 1, 2, 2, 2, 2, 2, 2, 2, 2, 2, 2,\n",
              "       2, 2, 2, 2, 2, 2, 2, 2, 2, 2, 2, 2, 2, 2, 2, 2, 2, 2, 2, 2, 2, 2,\n",
              "       2, 2, 2, 2, 2, 2, 2, 2, 2, 2, 2, 2, 2, 2, 2, 2, 2, 2])"
            ]
          },
          "execution_count": 24,
          "metadata": {},
          "output_type": "execute_result"
        }
      ],
      "source": [
        "y=data.variety\n",
        "from sklearn import preprocessing\n",
        "label_encoder = preprocessing.LabelEncoder()\n",
        "y= label_encoder.fit_transform(y)\n",
        "y"
      ]
    },
    {
      "cell_type": "code",
      "execution_count": null,
      "id": "489a5b89",
      "metadata": {
        "id": "489a5b89",
        "outputId": "0ab70833-ade4-43e3-ee7b-e54c1b09927a"
      },
      "outputs": [
        {
          "name": "stdout",
          "output_type": "stream",
          "text": [
            "     sepal.length  sepal.width  petal.length  petal.width\n",
            "79            5.7          2.6           3.5          1.0\n",
            "103           6.3          2.9           5.6          1.8\n",
            "95            5.7          3.0           4.2          1.2\n",
            "3             4.6          3.1           1.5          0.2\n",
            "124           6.7          3.3           5.7          2.1\n",
            "..            ...          ...           ...          ...\n",
            "8             4.4          2.9           1.4          0.2\n",
            "105           7.6          3.0           6.6          2.1\n",
            "98            5.1          2.5           3.0          1.1\n",
            "50            7.0          3.2           4.7          1.4\n",
            "16            5.4          3.9           1.3          0.4\n",
            "\n",
            "[105 rows x 4 columns] [1 2 1 0 2 1 0 0 0 1 0 0 0 2 0 0 2 1 2 0 0 0 1 2 2 1 2 0 0 0 1 0 0 1 2 0 1\n",
            " 0 1 0 0 1 2 1 2 1 2 0 1 2 1 0 2 2 0 0 1 0 1 1 0 2 2 2 2 2 0 0 2 0 2 1 0 2\n",
            " 2 1 1 1 2 2 0 1 0 2 2 1 1 1 0 2 2 1 1 0 1 1 1 0 1 2 0 2 1 1 0]\n"
          ]
        }
      ],
      "source": [
        "model=svm.SVC()\n",
        "xtrain,xtest,ytrain,ytest=train_test_split(X,y,test_size=0.3)\n",
        "print(xtrain,ytrain)"
      ]
    },
    {
      "cell_type": "code",
      "execution_count": null,
      "id": "4e4656d3",
      "metadata": {
        "id": "4e4656d3"
      },
      "outputs": [],
      "source": [
        "model.fit(xtrain,ytrain)\n",
        "ypred=model.predict(xtest)"
      ]
    },
    {
      "cell_type": "code",
      "execution_count": null,
      "id": "924e9316",
      "metadata": {
        "id": "924e9316",
        "outputId": "217d52ce-2062-4e6c-f816-7352ac4aeb96"
      },
      "outputs": [
        {
          "name": "stdout",
          "output_type": "stream",
          "text": [
            "[0 2 2 2 2 0 0 1 0 1 1 2 2 2 1 1 0 2 2 1 0 2 1 2 2 2 0 0 0 0 1 1 2 1 1 2 0\n",
            " 1 1 2 0 2 1 1 1]\n",
            "[0 2 2 2 2 0 0 1 0 1 2 2 2 2 1 1 0 2 2 1 0 2 1 2 2 2 0 0 0 0 1 1 2 1 1 2 0\n",
            " 1 1 2 0 2 1 1 1]\n"
          ]
        }
      ],
      "source": [
        "print(ypred)\n",
        "print(ytest)"
      ]
    },
    {
      "cell_type": "code",
      "execution_count": null,
      "id": "8b5de593",
      "metadata": {
        "id": "8b5de593",
        "outputId": "c8ac673a-374a-4823-93ec-d8906d9df511"
      },
      "outputs": [
        {
          "name": "stdout",
          "output_type": "stream",
          "text": [
            "0.9777777777777777\n"
          ]
        }
      ],
      "source": [
        "print(model.score(xtest,ytest))"
      ]
    },
    {
      "cell_type": "code",
      "execution_count": null,
      "id": "8fa5d3d5",
      "metadata": {
        "id": "8fa5d3d5"
      },
      "outputs": [],
      "source": []
    }
  ],
  "metadata": {
    "colab": {
      "provenance": []
    },
    "kernelspec": {
      "display_name": "Python 3.9.14 64-bit ('3.9.14')",
      "language": "python",
      "name": "python3"
    },
    "language_info": {
      "codemirror_mode": {
        "name": "ipython",
        "version": 3
      },
      "file_extension": ".py",
      "mimetype": "text/x-python",
      "name": "python",
      "nbconvert_exporter": "python",
      "pygments_lexer": "ipython3",
      "version": "3.9.14"
    },
    "vscode": {
      "interpreter": {
        "hash": "1f7faa64aef5996f0ad3c80baa6f19d71d33551850bd73fbadfe3bb22dd5557a"
      }
    }
  },
  "nbformat": 4,
  "nbformat_minor": 5
}
