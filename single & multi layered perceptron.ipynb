{
  "cells": [
    {
      "cell_type": "markdown",
      "metadata": {},
      "source": [
        "20BRS1075 Aman Gupta\n"
      ]
    },
    {
      "cell_type": "code",
      "execution_count": 3,
      "metadata": {
        "id": "U63vbYsByJC1"
      },
      "outputs": [],
      "source": [
        "import numpy as np\n",
        "import pandas as pd\n",
        "from sklearn import preprocessing"
      ]
    },
    {
      "cell_type": "code",
      "execution_count": 4,
      "metadata": {
        "colab": {
          "base_uri": "https://localhost:8080/",
          "height": 363
        },
        "id": "qI1PhStMyi4G",
        "outputId": "80dde650-c494-4d24-e0dc-30f68a522dfc"
      },
      "outputs": [
        {
          "data": {
            "text/html": [
              "<div>\n",
              "<style scoped>\n",
              "    .dataframe tbody tr th:only-of-type {\n",
              "        vertical-align: middle;\n",
              "    }\n",
              "\n",
              "    .dataframe tbody tr th {\n",
              "        vertical-align: top;\n",
              "    }\n",
              "\n",
              "    .dataframe thead th {\n",
              "        text-align: right;\n",
              "    }\n",
              "</style>\n",
              "<table border=\"1\" class=\"dataframe\">\n",
              "  <thead>\n",
              "    <tr style=\"text-align: right;\">\n",
              "      <th></th>\n",
              "      <th>Sepal_len_cm</th>\n",
              "      <th>Sepal_wid_cm</th>\n",
              "      <th>Petal_len_cm</th>\n",
              "      <th>Petal_wid_cm</th>\n",
              "      <th>Type</th>\n",
              "    </tr>\n",
              "  </thead>\n",
              "  <tbody>\n",
              "    <tr>\n",
              "      <th>0</th>\n",
              "      <td>5.1</td>\n",
              "      <td>3.5</td>\n",
              "      <td>1.4</td>\n",
              "      <td>0.2</td>\n",
              "      <td>Iris-setosa</td>\n",
              "    </tr>\n",
              "    <tr>\n",
              "      <th>1</th>\n",
              "      <td>4.9</td>\n",
              "      <td>3.0</td>\n",
              "      <td>1.4</td>\n",
              "      <td>0.2</td>\n",
              "      <td>Iris-setosa</td>\n",
              "    </tr>\n",
              "    <tr>\n",
              "      <th>2</th>\n",
              "      <td>4.7</td>\n",
              "      <td>3.2</td>\n",
              "      <td>1.3</td>\n",
              "      <td>0.2</td>\n",
              "      <td>Iris-setosa</td>\n",
              "    </tr>\n",
              "    <tr>\n",
              "      <th>3</th>\n",
              "      <td>4.6</td>\n",
              "      <td>3.1</td>\n",
              "      <td>1.5</td>\n",
              "      <td>0.2</td>\n",
              "      <td>Iris-setosa</td>\n",
              "    </tr>\n",
              "    <tr>\n",
              "      <th>4</th>\n",
              "      <td>5.0</td>\n",
              "      <td>3.6</td>\n",
              "      <td>1.4</td>\n",
              "      <td>0.2</td>\n",
              "      <td>Iris-setosa</td>\n",
              "    </tr>\n",
              "    <tr>\n",
              "      <th>5</th>\n",
              "      <td>5.4</td>\n",
              "      <td>3.9</td>\n",
              "      <td>1.7</td>\n",
              "      <td>0.4</td>\n",
              "      <td>Iris-setosa</td>\n",
              "    </tr>\n",
              "    <tr>\n",
              "      <th>6</th>\n",
              "      <td>4.6</td>\n",
              "      <td>3.4</td>\n",
              "      <td>1.4</td>\n",
              "      <td>0.3</td>\n",
              "      <td>Iris-setosa</td>\n",
              "    </tr>\n",
              "    <tr>\n",
              "      <th>7</th>\n",
              "      <td>5.0</td>\n",
              "      <td>3.4</td>\n",
              "      <td>1.5</td>\n",
              "      <td>0.2</td>\n",
              "      <td>Iris-setosa</td>\n",
              "    </tr>\n",
              "    <tr>\n",
              "      <th>8</th>\n",
              "      <td>4.4</td>\n",
              "      <td>2.9</td>\n",
              "      <td>1.4</td>\n",
              "      <td>0.2</td>\n",
              "      <td>Iris-setosa</td>\n",
              "    </tr>\n",
              "    <tr>\n",
              "      <th>9</th>\n",
              "      <td>4.9</td>\n",
              "      <td>3.1</td>\n",
              "      <td>1.5</td>\n",
              "      <td>0.1</td>\n",
              "      <td>Iris-setosa</td>\n",
              "    </tr>\n",
              "  </tbody>\n",
              "</table>\n",
              "</div>"
            ],
            "text/plain": [
              "   Sepal_len_cm  Sepal_wid_cm  Petal_len_cm  Petal_wid_cm         Type\n",
              "0           5.1           3.5           1.4           0.2  Iris-setosa\n",
              "1           4.9           3.0           1.4           0.2  Iris-setosa\n",
              "2           4.7           3.2           1.3           0.2  Iris-setosa\n",
              "3           4.6           3.1           1.5           0.2  Iris-setosa\n",
              "4           5.0           3.6           1.4           0.2  Iris-setosa\n",
              "5           5.4           3.9           1.7           0.4  Iris-setosa\n",
              "6           4.6           3.4           1.4           0.3  Iris-setosa\n",
              "7           5.0           3.4           1.5           0.2  Iris-setosa\n",
              "8           4.4           2.9           1.4           0.2  Iris-setosa\n",
              "9           4.9           3.1           1.5           0.1  Iris-setosa"
            ]
          },
          "execution_count": 4,
          "metadata": {},
          "output_type": "execute_result"
        }
      ],
      "source": [
        "data=pd.read_csv('IRIS.csv')\n",
        "data.columns=['Sepal_len_cm','Sepal_wid_cm','Petal_len_cm','Petal_wid_cm','Type']\n",
        "data.head(10)"
      ]
    },
    {
      "cell_type": "code",
      "execution_count": 8,
      "metadata": {
        "id": "ESR2Ml_mz4cB"
      },
      "outputs": [],
      "source": [
        "def activation_func(value):    #Tangent Hypotenuse\\n\"\n",
        "  #return (1/(1+np.exp(-value)))\\n\",\n",
        "  return ((np.exp(value)-np.exp(-value))/(np.exp(value)+np.exp(-value)))"
      ]
    },
    {
      "cell_type": "code",
      "execution_count": 9,
      "metadata": {
        "id": "4lbx1evN0OiT"
      },
      "outputs": [],
      "source": [
        "def perceptron_train(in_data,labels,alpha):\n",
        "  X=np.array(in_data)\n",
        "  y=np.array(labels)\n",
        "  weights=np.random.random(X.shape[1])\n",
        "  original=weights\n",
        "  bias=np.random.random_sample()\n",
        "  for key in range(X.shape[0]):\n",
        "    a=activation_func(np.matmul(np.transpose(weights),X[key]))  \n",
        "    yn=0\n",
        "  \n",
        "    if a>=0.7:\n",
        "      yn=1\n",
        "    elif a<=(-0.7):\n",
        "      yn=-1\n",
        "    weights=weights+alpha*(yn-y[key])*X[key]\n",
        "  print('Iteration '+str(key)+': '+str(weights))\n",
        "  print('Difference: '+str(weights-original))\n",
        "  return weights"
      ]
    },
    {
      "cell_type": "code",
      "execution_count": null,
      "metadata": {},
      "outputs": [],
      "source": []
    },
    {
      "cell_type": "code",
      "execution_count": 10,
      "metadata": {
        "id": "iE5r-Mge0z7_"
      },
      "outputs": [],
      "source": [
        "def perceptron_test(in_data,label_shape,weights):\n",
        "  X=np.array(in_data)\n",
        "  y=np.zeros(label_shape)\n",
        "  for key in range(X.shape[1]):\n",
        "    a=activation_func((weights*X[key]).sum())\n",
        "    y[key]=0\n",
        "    if a>=0.7:\n",
        "      y[key]=1\n",
        "    elif a<=(-0.7):\n",
        "      y[key]=-1\n",
        "  return y"
      ]
    },
    {
      "cell_type": "code",
      "execution_count": 11,
      "metadata": {
        "id": "fFH985TU1NGc"
      },
      "outputs": [],
      "source": [
        "def score(result,labels):\n",
        "  difference=result-np.array(labels)\n",
        "  correct_ctr=0\n",
        "  for elem in range(difference.shape[0]):\n",
        "    if difference[elem]==0:\n",
        "      correct_ctr+=1\n",
        "  score=correct_ctr*100/difference.size\n",
        "  print('Score='+str(score))"
      ]
    },
    {
      "cell_type": "code",
      "execution_count": 5,
      "metadata": {
        "id": "2aogrKN41jpf"
      },
      "outputs": [],
      "source": [
        "divider = np.random.rand(len(data)) < 0.70\n",
        "d_train=data[divider]\n",
        "d_test=data[~divider]"
      ]
    },
    {
      "cell_type": "code",
      "execution_count": 6,
      "metadata": {
        "id": "Je6GovC21vu7"
      },
      "outputs": [],
      "source": [
        "d_train_y=preprocessing.LabelEncoder().fit_transform(d_train['Type'])\n",
        "d_train_X=d_train.drop(['Type'],axis=1)\n",
        "# Dividing d_train into data and labels/targets\\n\",\n",
        "d_test_y=preprocessing.LabelEncoder().fit_transform(d_test['Type'])\n",
        "d_test_X=d_test.drop(['Type'],axis=1)"
      ]
    },
    {
      "cell_type": "code",
      "execution_count": 14,
      "metadata": {
        "colab": {
          "base_uri": "https://localhost:8080/"
        },
        "id": "Ts9VKCdy19T0",
        "outputId": "816b40c5-feb1-408f-f157-e28ce7109c61"
      },
      "outputs": [
        {
          "name": "stdout",
          "output_type": "stream",
          "text": [
            "Iteration 98: [-1.21349743 -0.30527442 -2.17957614 -0.53235029]\n",
            "Difference: [-1.526 -0.314 -2.2   -0.938]\n"
          ]
        }
      ],
      "source": [
        "# Learning rate\\n\",\n",
        "alpha = 0.01\n",
        "# Train\\n\",\n",
        "weights = perceptron_train(d_train_X, d_train_y, alpha)"
      ]
    },
    {
      "cell_type": "code",
      "execution_count": 15,
      "metadata": {
        "id": "G92nNTRH2S3n"
      },
      "outputs": [],
      "source": [
        "result_test=perceptron_test(d_test_X,d_test_y.shape,weights)"
      ]
    },
    {
      "cell_type": "code",
      "execution_count": 16,
      "metadata": {
        "colab": {
          "base_uri": "https://localhost:8080/"
        },
        "id": "QNTtqaDo2fjS",
        "outputId": "950e597c-7713-4de1-9777-6a733c09d19f"
      },
      "outputs": [
        {
          "name": "stdout",
          "output_type": "stream",
          "text": [
            "Score=23.529411764705884\n"
          ]
        }
      ],
      "source": [
        "score(result_test,d_test_y)"
      ]
    },
    {
      "cell_type": "markdown",
      "metadata": {},
      "source": [
        "#single layer perceptron"
      ]
    },
    {
      "cell_type": "code",
      "execution_count": 11,
      "metadata": {},
      "outputs": [
        {
          "data": {
            "text/plain": [
              "0.6831683168316832"
            ]
          },
          "execution_count": 11,
          "metadata": {},
          "output_type": "execute_result"
        }
      ],
      "source": [
        "from sklearn.datasets import load_digits\n",
        "from sklearn.linear_model import Perceptron\n",
        "\n",
        "clf = Perceptron(tol=1e-3, random_state=0)\n",
        "clf.fit(d_train_X, d_train_y)\n",
        "\n",
        "clf.score(d_train_X, d_train_y)"
      ]
    },
    {
      "cell_type": "markdown",
      "metadata": {},
      "source": [
        "#multi layer perceptron"
      ]
    },
    {
      "cell_type": "code",
      "execution_count": 15,
      "metadata": {},
      "outputs": [
        {
          "name": "stderr",
          "output_type": "stream",
          "text": [
            "/Library/Frameworks/Python.framework/Versions/3.10/lib/python3.10/site-packages/sklearn/neural_network/_multilayer_perceptron.py:702: ConvergenceWarning: Stochastic Optimizer: Maximum iterations (300) reached and the optimization hasn't converged yet.\n",
            "  warnings.warn(\n"
          ]
        },
        {
          "data": {
            "text/plain": [
              "0.9801980198019802"
            ]
          },
          "execution_count": 15,
          "metadata": {},
          "output_type": "execute_result"
        }
      ],
      "source": [
        "from sklearn.neural_network import MLPClassifier\n",
        "from sklearn.datasets import make_classification\n",
        "from sklearn.model_selection import train_test_split\n",
        "X, y = make_classification(n_samples=100, random_state=1)\n",
        "\n",
        "clf = MLPClassifier(random_state=1, max_iter=300).fit(d_train_X, d_train_y)\n",
        "clf.predict_proba(d_test_X)\n",
        "\n",
        "clf.predict(d_test_X)\n",
        "\n",
        "clf.score(d_train_X, d_train_y)"
      ]
    }
  ],
  "metadata": {
    "colab": {
      "provenance": []
    },
    "kernelspec": {
      "display_name": "Python 3.10.5 64-bit",
      "language": "python",
      "name": "python3"
    },
    "language_info": {
      "codemirror_mode": {
        "name": "ipython",
        "version": 3
      },
      "file_extension": ".py",
      "mimetype": "text/x-python",
      "name": "python",
      "nbconvert_exporter": "python",
      "pygments_lexer": "ipython3",
      "version": "3.10.5"
    },
    "vscode": {
      "interpreter": {
        "hash": "aee8b7b246df8f9039afb4144a1f6fd8d2ca17a180786b69acc140d282b71a49"
      }
    }
  },
  "nbformat": 4,
  "nbformat_minor": 0
}
