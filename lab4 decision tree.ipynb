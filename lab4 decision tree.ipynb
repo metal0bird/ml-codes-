{
  "cells": [
    {
      "cell_type": "markdown",
      "metadata": {},
      "source": [
        "**20BRS1075 Aman Gupta**\n"
      ]
    },
    {
      "cell_type": "code",
      "execution_count": 1,
      "metadata": {
        "id": "M0jbM7mVNH89"
      },
      "outputs": [],
      "source": [
        "import pandas as pd\n",
        "import numpy as np\n",
        "import matplotlib.pyplot as plt\n",
        "from sklearn.model_selection import train_test_split\n",
        "from sklearn import tree\n",
        "from sklearn import preprocessing\n",
        "import graphviz\n",
        "from sklearn.metrics import accuracy_score,confusion_matrix,recall_score,precision_score"
      ]
    },
    {
      "cell_type": "code",
      "execution_count": 2,
      "metadata": {
        "colab": {
          "base_uri": "https://localhost:8080/",
          "height": 206
        },
        "id": "SExJ4WU6Nnra",
        "outputId": "7485c9a5-50e0-41f1-a205-6139be2b6748"
      },
      "outputs": [
        {
          "data": {
            "text/html": [
              "\n",
              "  <div id=\"df-87121cda-2372-4c6f-8b6a-a414cc0029bb\">\n",
              "    <div class=\"colab-df-container\">\n",
              "      <div>\n",
              "<style scoped>\n",
              "    .dataframe tbody tr th:only-of-type {\n",
              "        vertical-align: middle;\n",
              "    }\n",
              "\n",
              "    .dataframe tbody tr th {\n",
              "        vertical-align: top;\n",
              "    }\n",
              "\n",
              "    .dataframe thead th {\n",
              "        text-align: right;\n",
              "    }\n",
              "</style>\n",
              "<table border=\"1\" class=\"dataframe\">\n",
              "  <thead>\n",
              "    <tr style=\"text-align: right;\">\n",
              "      <th></th>\n",
              "      <th>course</th>\n",
              "      <th>mean</th>\n",
              "      <th>sd</th>\n",
              "      <th>cat1</th>\n",
              "      <th>cat2</th>\n",
              "      <th>fat</th>\n",
              "      <th>marks</th>\n",
              "      <th>grade</th>\n",
              "    </tr>\n",
              "  </thead>\n",
              "  <tbody>\n",
              "    <tr>\n",
              "      <th>0</th>\n",
              "      <td>cse2012</td>\n",
              "      <td>71.27</td>\n",
              "      <td>7.23</td>\n",
              "      <td>11.75</td>\n",
              "      <td>13.8</td>\n",
              "      <td>29.2</td>\n",
              "      <td>85</td>\n",
              "      <td>s</td>\n",
              "    </tr>\n",
              "    <tr>\n",
              "      <th>1</th>\n",
              "      <td>cse2038</td>\n",
              "      <td>72.91</td>\n",
              "      <td>10.10</td>\n",
              "      <td>11.75</td>\n",
              "      <td>10.5</td>\n",
              "      <td>29.6</td>\n",
              "      <td>82</td>\n",
              "      <td>a</td>\n",
              "    </tr>\n",
              "    <tr>\n",
              "      <th>2</th>\n",
              "      <td>cse2039</td>\n",
              "      <td>78.10</td>\n",
              "      <td>7.71</td>\n",
              "      <td>13.00</td>\n",
              "      <td>12.6</td>\n",
              "      <td>34.0</td>\n",
              "      <td>81</td>\n",
              "      <td>s</td>\n",
              "    </tr>\n",
              "    <tr>\n",
              "      <th>3</th>\n",
              "      <td>ece2036</td>\n",
              "      <td>76.90</td>\n",
              "      <td>10.30</td>\n",
              "      <td>12.00</td>\n",
              "      <td>15.0</td>\n",
              "      <td>35.6</td>\n",
              "      <td>92</td>\n",
              "      <td>s</td>\n",
              "    </tr>\n",
              "    <tr>\n",
              "      <th>4</th>\n",
              "      <td>mat2010</td>\n",
              "      <td>74.01</td>\n",
              "      <td>8.28</td>\n",
              "      <td>12.00</td>\n",
              "      <td>12.9</td>\n",
              "      <td>35.6</td>\n",
              "      <td>90</td>\n",
              "      <td>s</td>\n",
              "    </tr>\n",
              "  </tbody>\n",
              "</table>\n",
              "</div>\n",
              "      <button class=\"colab-df-convert\" onclick=\"convertToInteractive('df-87121cda-2372-4c6f-8b6a-a414cc0029bb')\"\n",
              "              title=\"Convert this dataframe to an interactive table.\"\n",
              "              style=\"display:none;\">\n",
              "        \n",
              "  <svg xmlns=\"http://www.w3.org/2000/svg\" height=\"24px\"viewBox=\"0 0 24 24\"\n",
              "       width=\"24px\">\n",
              "    <path d=\"M0 0h24v24H0V0z\" fill=\"none\"/>\n",
              "    <path d=\"M18.56 5.44l.94 2.06.94-2.06 2.06-.94-2.06-.94-.94-2.06-.94 2.06-2.06.94zm-11 1L8.5 8.5l.94-2.06 2.06-.94-2.06-.94L8.5 2.5l-.94 2.06-2.06.94zm10 10l.94 2.06.94-2.06 2.06-.94-2.06-.94-.94-2.06-.94 2.06-2.06.94z\"/><path d=\"M17.41 7.96l-1.37-1.37c-.4-.4-.92-.59-1.43-.59-.52 0-1.04.2-1.43.59L10.3 9.45l-7.72 7.72c-.78.78-.78 2.05 0 2.83L4 21.41c.39.39.9.59 1.41.59.51 0 1.02-.2 1.41-.59l7.78-7.78 2.81-2.81c.8-.78.8-2.07 0-2.86zM5.41 20L4 18.59l7.72-7.72 1.47 1.35L5.41 20z\"/>\n",
              "  </svg>\n",
              "      </button>\n",
              "      \n",
              "  <style>\n",
              "    .colab-df-container {\n",
              "      display:flex;\n",
              "      flex-wrap:wrap;\n",
              "      gap: 12px;\n",
              "    }\n",
              "\n",
              "    .colab-df-convert {\n",
              "      background-color: #E8F0FE;\n",
              "      border: none;\n",
              "      border-radius: 50%;\n",
              "      cursor: pointer;\n",
              "      display: none;\n",
              "      fill: #1967D2;\n",
              "      height: 32px;\n",
              "      padding: 0 0 0 0;\n",
              "      width: 32px;\n",
              "    }\n",
              "\n",
              "    .colab-df-convert:hover {\n",
              "      background-color: #E2EBFA;\n",
              "      box-shadow: 0px 1px 2px rgba(60, 64, 67, 0.3), 0px 1px 3px 1px rgba(60, 64, 67, 0.15);\n",
              "      fill: #174EA6;\n",
              "    }\n",
              "\n",
              "    [theme=dark] .colab-df-convert {\n",
              "      background-color: #3B4455;\n",
              "      fill: #D2E3FC;\n",
              "    }\n",
              "\n",
              "    [theme=dark] .colab-df-convert:hover {\n",
              "      background-color: #434B5C;\n",
              "      box-shadow: 0px 1px 3px 1px rgba(0, 0, 0, 0.15);\n",
              "      filter: drop-shadow(0px 1px 2px rgba(0, 0, 0, 0.3));\n",
              "      fill: #FFFFFF;\n",
              "    }\n",
              "  </style>\n",
              "\n",
              "      <script>\n",
              "        const buttonEl =\n",
              "          document.querySelector('#df-87121cda-2372-4c6f-8b6a-a414cc0029bb button.colab-df-convert');\n",
              "        buttonEl.style.display =\n",
              "          google.colab.kernel.accessAllowed ? 'block' : 'none';\n",
              "\n",
              "        async function convertToInteractive(key) {\n",
              "          const element = document.querySelector('#df-87121cda-2372-4c6f-8b6a-a414cc0029bb');\n",
              "          const dataTable =\n",
              "            await google.colab.kernel.invokeFunction('convertToInteractive',\n",
              "                                                     [key], {});\n",
              "          if (!dataTable) return;\n",
              "\n",
              "          const docLinkHtml = 'Like what you see? Visit the ' +\n",
              "            '<a target=\"_blank\" href=https://colab.research.google.com/notebooks/data_table.ipynb>data table notebook</a>'\n",
              "            + ' to learn more about interactive tables.';\n",
              "          element.innerHTML = '';\n",
              "          dataTable['output_type'] = 'display_data';\n",
              "          await google.colab.output.renderOutput(dataTable, element);\n",
              "          const docLink = document.createElement('div');\n",
              "          docLink.innerHTML = docLinkHtml;\n",
              "          element.appendChild(docLink);\n",
              "        }\n",
              "      </script>\n",
              "    </div>\n",
              "  </div>\n",
              "  "
            ],
            "text/plain": [
              "    course   mean     sd   cat1  cat2   fat  marks grade\n",
              "0  cse2012  71.27   7.23  11.75  13.8  29.2     85     s\n",
              "1  cse2038  72.91  10.10  11.75  10.5  29.6     82     a\n",
              "2  cse2039  78.10   7.71  13.00  12.6  34.0     81     s\n",
              "3  ece2036  76.90  10.30  12.00  15.0  35.6     92     s\n",
              "4  mat2010  74.01   8.28  12.00  12.9  35.6     90     s"
            ]
          },
          "execution_count": 2,
          "metadata": {},
          "output_type": "execute_result"
        }
      ],
      "source": [
        "data=pd.read_csv(\"/content/marks.csv\")\n",
        "data.head()"
      ]
    },
    {
      "cell_type": "code",
      "execution_count": 3,
      "metadata": {
        "id": "F13Rwqk3YmSw"
      },
      "outputs": [],
      "source": [
        "data=data.drop(\"course\",axis=1)\n",
        "X=data.iloc[:,:6]\n",
        "y=data.grade"
      ]
    },
    {
      "cell_type": "code",
      "execution_count": 4,
      "metadata": {
        "colab": {
          "base_uri": "https://localhost:8080/"
        },
        "id": "Xb5EeluyZDdi",
        "outputId": "4265d9e0-4f7f-4a26-e9e5-bff11add777a"
      },
      "outputs": [
        {
          "name": "stdout",
          "output_type": "stream",
          "text": [
            "     mean     sd   cat1   cat2    fat  marks\n",
            "0   71.27   7.23  11.75  13.80  29.20     85\n",
            "1   72.91  10.10  11.75  10.50  29.60     82\n",
            "2   78.10   7.71  13.00  12.60  34.00     81\n",
            "3   76.90  10.30  12.00  15.00  35.60     92\n",
            "4   74.01   8.28  12.00  12.90  35.60     90\n",
            "5   84.06   5.55  13.50   9.60  29.20     90\n",
            "6   80.75   5.32  11.50  11.00  34.67     91\n",
            "7   81.52   6.17  12.00  12.25  33.67     90\n",
            "8   76.04   8.77  11.00  12.00  34.00     85\n",
            "9   80.34   9.53  13.00  12.50  35.33     91\n",
            "10  87.59   3.25  12.50  12.50  32.33     89\n",
            "11  84.00   9.52  15.00  15.00  38.67     99\n",
            "0     s\n",
            "1     a\n",
            "2     s\n",
            "3     s\n",
            "4     s\n",
            "5     a\n",
            "6     s\n",
            "7     a\n",
            "8     a\n",
            "9     a\n",
            "10    a\n",
            "11    s\n",
            "Name: grade, dtype: object\n"
          ]
        }
      ],
      "source": [
        "print(X)\n",
        "print(y)"
      ]
    },
    {
      "cell_type": "code",
      "execution_count": 5,
      "metadata": {
        "colab": {
          "base_uri": "https://localhost:8080/"
        },
        "id": "gRhbqr1GZQJT",
        "outputId": "9e784e19-3ab7-4d30-e0d3-93299d6783c2"
      },
      "outputs": [
        {
          "name": "stdout",
          "output_type": "stream",
          "text": [
            "[1 0 1 1 1 0 1 0 0 0 0 1]\n"
          ]
        }
      ],
      "source": [
        "le = preprocessing.LabelEncoder()\n",
        "y=le.fit_transform(y)\n",
        "print(y)\n",
        "data.grade=y"
      ]
    },
    {
      "cell_type": "code",
      "execution_count": 6,
      "metadata": {
        "colab": {
          "base_uri": "https://localhost:8080/"
        },
        "id": "h_XdQA3VZcGp",
        "outputId": "fd91f327-d8e5-4e10-afdd-0561cd487fb6"
      },
      "outputs": [
        {
          "name": "stdout",
          "output_type": "stream",
          "text": [
            "training dataset:\n",
            "     mean     sd   cat1   cat2    fat  marks\n",
            "2  78.10   7.71  13.00  12.60  34.00     81\n",
            "8  76.04   8.77  11.00  12.00  34.00     85\n",
            "1  72.91  10.10  11.75  10.50  29.60     82\n",
            "7  81.52   6.17  12.00  12.25  33.67     90\n",
            "9  80.34   9.53  13.00  12.50  35.33     91\n",
            "3  76.90  10.30  12.00  15.00  35.60     92\n",
            "0  71.27   7.23  11.75  13.80  29.20     85\n",
            "5  84.06   5.55  13.50   9.60  29.20     90 \n",
            " [1 0 0 0 0 1 1 0]\n",
            "\n",
            "testing dataset:\n",
            "      mean    sd  cat1  cat2    fat  marks\n",
            "6   80.75  5.32  11.5  11.0  34.67     91\n",
            "11  84.00  9.52  15.0  15.0  38.67     99\n",
            "4   74.01  8.28  12.0  12.9  35.60     90\n",
            "10  87.59  3.25  12.5  12.5  32.33     89 \n",
            " [1 1 1 0]\n"
          ]
        }
      ],
      "source": [
        "xtrain, xtest, ytrain, ytest = train_test_split(X, y, test_size=0.3, random_state=0)\n",
        "print(\"training dataset:\\n\",xtrain,\"\\n\",ytrain)\n",
        "print(\"\\ntesting dataset:\\n\",xtest,\"\\n\",ytest)"
      ]
    },
    {
      "cell_type": "code",
      "execution_count": 7,
      "metadata": {
        "colab": {
          "base_uri": "https://localhost:8080/"
        },
        "id": "OvPpcHO-ZkfI",
        "outputId": "365e2d57-f1d1-47e9-ee05-ee0ef892a2f2"
      },
      "outputs": [
        {
          "name": "stdout",
          "output_type": "stream",
          "text": [
            "the predicted y values:  [0 1 1 0]\n",
            "the test y values:  [1 1 1 0]\n",
            "the score for the training data set is:  0.75\n"
          ]
        }
      ],
      "source": [
        "#GINI INDEX\n",
        "dt=tree.DecisionTreeClassifier()\n",
        "model= dt.fit(xtrain,ytrain)\n",
        "ypred=dt.predict(xtest)\n",
        "print(\"the predicted y values: \",ypred)\n",
        "print(\"the test y values: \",ytest)\n",
        "print(\"the score for the training data set is: \",model.score(xtest,ytest))"
      ]
    },
    {
      "cell_type": "code",
      "execution_count": 8,
      "metadata": {
        "colab": {
          "base_uri": "https://localhost:8080/",
          "height": 300
        },
        "id": "8BD5kKP0aUKq",
        "outputId": "c5e944b2-4ea5-42e7-deb5-3008e7af6310"
      },
      "outputs": [
        {
          "data": {
            "text/plain": [
              "[Text(0.5, 0.75, 'X[3] <= 12.55\\ngini = 0.469\\nsamples = 8\\nvalue = [5, 3]'),\n",
              " Text(0.25, 0.25, 'gini = 0.0\\nsamples = 5\\nvalue = [5, 0]'),\n",
              " Text(0.75, 0.25, 'gini = 0.0\\nsamples = 3\\nvalue = [0, 3]')]"
            ]
          },
          "execution_count": 8,
          "metadata": {},
          "output_type": "execute_result"
        },
        {
          "data": {
            "image/png": "[encoded data removed]",
            "text/plain": [
              "<Figure size 432x288 with 1 Axes>"
            ]
          },
          "metadata": {
            "needs_background": "light"
          },
          "output_type": "display_data"
        }
      ],
      "source": [
        "tree.plot_tree(model)"
      ]
    },
    {
      "cell_type": "code",
      "execution_count": 9,
      "metadata": {
        "colab": {
          "base_uri": "https://localhost:8080/",
          "height": 352
        },
        "id": "517uSCUWafrp",
        "outputId": "414b284f-4e52-42ec-e8a1-b9b97bf1b875"
      },
      "outputs": [
        {
          "name": "stdout",
          "output_type": "stream",
          "text": [
            "the predicted y values:  [0 1 1 0]\n",
            "the test y values:  [1 1 1 0]\n",
            "the score for the training data set is:  0.75\n"
          ]
        },
        {
          "data": {
            "text/plain": [
              "[Text(0.5, 0.75, 'X[3] <= 12.55\\nentropy = 0.954\\nsamples = 8\\nvalue = [5, 3]'),\n",
              " Text(0.25, 0.25, 'entropy = 0.0\\nsamples = 5\\nvalue = [5, 0]'),\n",
              " Text(0.75, 0.25, 'entropy = 0.0\\nsamples = 3\\nvalue = [0, 3]')]"
            ]
          },
          "execution_count": 9,
          "metadata": {},
          "output_type": "execute_result"
        },
        {
          "data": {
            "image/png": "[encoded data removed]",
            "text/plain": [
              "<Figure size 432x288 with 1 Axes>"
            ]
          },
          "metadata": {
            "needs_background": "light"
          },
          "output_type": "display_data"
        }
      ],
      "source": [
        "#ENTROPY\n",
        "dt=tree.DecisionTreeClassifier(criterion='entropy')\n",
        "model1= dt.fit(xtrain,ytrain)\n",
        "ypred=dt.predict(xtest)\n",
        "print(\"the predicted y values: \",ypred)\n",
        "print(\"the test y values: \",ytest)\n",
        "print(\"the score for the training data set is: \",model1.score(xtest,ytest))\n",
        "tree.plot_tree(model1)"
      ]
    },
    {
      "cell_type": "code",
      "execution_count": 10,
      "metadata": {
        "colab": {
          "base_uri": "https://localhost:8080/",
          "height": 242
        },
        "id": "1CqrUbx3bhFk",
        "outputId": "952b675d-de10-4609-c0d7-f520d1675d7e"
      },
      "outputs": [
        {
          "data": {
            "image/svg+xml": "<?xml version=\"1.0\" encoding=\"UTF-8\" standalone=\"no\"?>\n<!DOCTYPE svg PUBLIC \"-//W3C//DTD SVG 1.1//EN\"\n \"http://www.w3.org/Graphics/SVG/1.1/DTD/svg11.dtd\">\n<!-- Generated by graphviz version 2.40.1 (20161225.0304)\n -->\n<!-- Title: Tree Pages: 1 -->\n<svg width=\"228pt\" height=\"165pt\"\n viewBox=\"0.00 0.00 228.00 165.00\" xmlns=\"http://www.w3.org/2000/svg\" xmlns:xlink=\"http://www.w3.org/1999/xlink\">\n<g id=\"graph0\" class=\"graph\" transform=\"scale(1 1) rotate(0) translate(4 161)\">\n<title>Tree</title>\n<polygon fill=\"#ffffff\" stroke=\"transparent\" points=\"-4,4 -4,-161 224,-161 224,4 -4,4\"/>\n<!-- 0 -->\n<g id=\"node1\" class=\"node\">\n<title>0</title>\n<polygon fill=\"none\" stroke=\"#000000\" points=\"168.5,-157 50.5,-157 50.5,-89 168.5,-89 168.5,-157\"/>\n<text text-anchor=\"middle\" x=\"109.5\" y=\"-141.8\" font-family=\"Helvetica,sans-Serif\" font-size=\"14.00\" fill=\"#000000\">X[3] &lt;= 12.55</text>\n<text text-anchor=\"middle\" x=\"109.5\" y=\"-126.8\" font-family=\"Helvetica,sans-Serif\" font-size=\"14.00\" fill=\"#000000\">entropy = 0.954</text>\n<text text-anchor=\"middle\" x=\"109.5\" y=\"-111.8\" font-family=\"Helvetica,sans-Serif\" font-size=\"14.00\" fill=\"#000000\">samples = 8</text>\n<text text-anchor=\"middle\" x=\"109.5\" y=\"-96.8\" font-family=\"Helvetica,sans-Serif\" font-size=\"14.00\" fill=\"#000000\">value = [5, 3]</text>\n</g>\n<!-- 1 -->\n<g id=\"node2\" class=\"node\">\n<title>1</title>\n<polygon fill=\"none\" stroke=\"#000000\" points=\"101,-53 0,-53 0,0 101,0 101,-53\"/>\n<text text-anchor=\"middle\" x=\"50.5\" y=\"-37.8\" font-family=\"Helvetica,sans-Serif\" font-size=\"14.00\" fill=\"#000000\">entropy = 0.0</text>\n<text text-anchor=\"middle\" x=\"50.5\" y=\"-22.8\" font-family=\"Helvetica,sans-Serif\" font-size=\"14.00\" fill=\"#000000\">samples = 5</text>\n<text text-anchor=\"middle\" x=\"50.5\" y=\"-7.8\" font-family=\"Helvetica,sans-Serif\" font-size=\"14.00\" fill=\"#000000\">value = [5, 0]</text>\n</g>\n<!-- 0&#45;&gt;1 -->\n<g id=\"edge1\" class=\"edge\">\n<title>0&#45;&gt;1</title>\n<path fill=\"none\" stroke=\"#000000\" d=\"M88.6988,-88.9777C83.3242,-80.187 77.5265,-70.7044 72.1115,-61.8477\"/>\n<polygon fill=\"#000000\" stroke=\"#000000\" points=\"75.0564,-59.9545 66.854,-53.2485 69.0842,-63.6059 75.0564,-59.9545\"/>\n<text text-anchor=\"middle\" x=\"60.9931\" y=\"-73.8518\" font-family=\"Helvetica,sans-Serif\" font-size=\"14.00\" fill=\"#000000\">True</text>\n</g>\n<!-- 2 -->\n<g id=\"node3\" class=\"node\">\n<title>2</title>\n<polygon fill=\"none\" stroke=\"#000000\" points=\"220,-53 119,-53 119,0 220,0 220,-53\"/>\n<text text-anchor=\"middle\" x=\"169.5\" y=\"-37.8\" font-family=\"Helvetica,sans-Serif\" font-size=\"14.00\" fill=\"#000000\">entropy = 0.0</text>\n<text text-anchor=\"middle\" x=\"169.5\" y=\"-22.8\" font-family=\"Helvetica,sans-Serif\" font-size=\"14.00\" fill=\"#000000\">samples = 3</text>\n<text text-anchor=\"middle\" x=\"169.5\" y=\"-7.8\" font-family=\"Helvetica,sans-Serif\" font-size=\"14.00\" fill=\"#000000\">value = [0, 3]</text>\n</g>\n<!-- 0&#45;&gt;2 -->\n<g id=\"edge2\" class=\"edge\">\n<title>0&#45;&gt;2</title>\n<path fill=\"none\" stroke=\"#000000\" d=\"M130.6538,-88.9777C136.1195,-80.187 142.0154,-70.7044 147.5222,-61.8477\"/>\n<polygon fill=\"#000000\" stroke=\"#000000\" points=\"150.5609,-63.5889 152.8688,-53.2485 144.6163,-59.8927 150.5609,-63.5889\"/>\n<text text-anchor=\"middle\" x=\"158.5471\" y=\"-73.8951\" font-family=\"Helvetica,sans-Serif\" font-size=\"14.00\" fill=\"#000000\">False</text>\n</g>\n</g>\n</svg>\n",
            "text/plain": [
              "<graphviz.files.Source at 0x7f7a0448ed10>"
            ]
          },
          "execution_count": 10,
          "metadata": {},
          "output_type": "execute_result"
        }
      ],
      "source": [
        "treedata= tree.export_graphviz(model1, out_file=None)\n",
        "graph = graphviz.Source(treedata)\n",
        "graph.render(\"marks\")\n",
        "graph"
      ]
    }
  ],
  "metadata": {
    "colab": {
      "provenance": []
    },
    "kernelspec": {
      "display_name": "Python 3.10.5 64-bit",
      "language": "python",
      "name": "python3"
    },
    "language_info": {
      "name": "python",
      "version": "3.10.5"
    },
    "vscode": {
      "interpreter": {
        "hash": "aee8b7b246df8f9039afb4144a1f6fd8d2ca17a180786b69acc140d282b71a49"
      }
    }
  },
  "nbformat": 4,
  "nbformat_minor": 0
}
